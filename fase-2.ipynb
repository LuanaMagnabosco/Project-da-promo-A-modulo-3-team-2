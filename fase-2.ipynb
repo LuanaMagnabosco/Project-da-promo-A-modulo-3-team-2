{
 "cells": [
  {
   "cell_type": "code",
   "execution_count": null,
   "metadata": {},
   "outputs": [],
   "source": [
    "# Importamos las librerías necesarias\n",
    "\n",
    "# Tratamiento de datos\n",
    "import pandas as pd\n",
    "import numpy as np\n",
    "\n",
    "# Imputación de nulos usando métodos avanzados estadísticos\n",
    "from sklearn.impute import SimpleImputer\n",
    "from sklearn.experimental import enable_iterative_imputer\n",
    "from sklearn.impute import IterativeImputer\n",
    "from sklearn.impute import KNNImputer\n",
    "\n",
    "# Librerías de visualización\n",
    "import seaborn as sns\n",
    "import matplotlib.pyplot as plt\n",
    "\n",
    "# Librería para convertir palabras a numeros\n",
    "from word2number import w2n\n",
    "\n",
    "# Configuración para poder visualizar todas las columnas y filas de los DataFrames\n",
    "pd.set_option('display.max_columns', None)\n",
    "pd.set_option('display.max_rows', None) "
   ]
  },
  {
   "cell_type": "markdown",
   "metadata": {},
   "source": [
    "# Fase 2: Transformación de los datos."
   ]
  },
  {
   "cell_type": "code",
   "execution_count": null,
   "metadata": {},
   "outputs": [],
   "source": [
    "# Leo archivo CSV\n",
    "hr_raw = pd.read_csv(\"HR RAW DATA.csv\", index_col=0)\n",
    "\n",
    "# Lo guardo en un DataFrame\n",
    "df_hr_raw = pd.DataFrame(hr_raw)\n",
    "\n",
    "# Hago una copia del DataFrame que iré limpiando\n",
    "df_limpia = df_hr_raw.copy()"
   ]
  },
  {
   "cell_type": "markdown",
   "metadata": {},
   "source": [
    "GENERAL\n",
    "- ✔️Estandarizar strings\n",
    "    - `BusinessTravel` (object) tiene guiones medios y bajos, estandarizar a guion bajo\n",
    "    - `MaritalStatus` (object) revisar valores con faltas ortograficas\n",
    "- ✔️Revisar que los que tienen que ser numericos no son string u otro tipo\n",
    "    - `Age` (object) cambiar object a valores numéricos (por ej: thirty -> 30)\n",
    "    - `DailyRate` (object) quitar simbolo dolar y pasar a valor numerico, comprobar si tienen decimales para decidir si INT o FLOAT. También tener en cuenta que hay strings que ponene 'nan'\n",
    "    - `HourlyRate` (object) revisar que hacer con los string `Not available`\n",
    "    - `MonthlyIncome`  (object) revisar que hacer con los string 'nan', ver si poner FLOAT o INT\n",
    "    - `PerformanceRating`  (object) revisar que hacer con los string 'nan'\n",
    "    - `TOTALWORKINGYEARS` (object) revisar que hacer con los string 'nan'\n",
    "    - `WORKLIFEBALANCE` (object) revisar que hacer con los string 'nan'\n",
    "    - `YearsInCurrentRole` (object) revisar que hacer con los string 'nan'\n",
    "- ✔️Estandarizar valores numericos\n",
    "    - `DistanceFromHome`(int64) tiene valores negativos, quitar\n",
    "- ✔️Estandarizar booleanos o valores binarios\n",
    "    - `Gender` (int64) cambiar 0 y 1 a algo mas legible\n",
    "    - `RemoteWork` (object) estandarizar valores\n",
    "- Revisar que hacer con los string 'nan', campos vacíos o nulos\n",
    "    - Columnas anteriores\n",
    "    - `employeenumber` (object) revisar que hacer con los string 'nan'"
   ]
  },
  {
   "cell_type": "markdown",
   "metadata": {},
   "source": [
    "## 1. Primer filtro de eliminación de columnas"
   ]
  },
  {
   "cell_type": "markdown",
   "metadata": {},
   "source": [
    "Elimino las columnas que no aportan información relevante o correcta antes de la primera limpieza, ya que la labor de limpieza puede ser bastante tediosa para ciertas columnas que no son necesarias. Las columnas a revisar antes de eliminar son:\n",
    "\n",
    "- `Department` pocos datos, revisar si eliminar (MANTENER DE MOMENTO)\n",
    "- `employeecount` todos con 1\n",
    "- `Over18` solo hay Y y vacíos, revisar si es necesaria (ya hay una columna con la edad `Age`)\n",
    "- `StandardHours` son 80 o nan, revisar si es necesaria\n",
    "- `Salary` tiene un único valor para todos los registros, 1000000000$\n",
    "- `RoleDepartament` eliminar, información redundantes (ya está el Role y el Department en otras columnas)\n",
    "- `NUMBERCHILDREN` todas vacías, eliminar\n",
    "- `YearsInCurrentRole` alto porcentaje de nulos\n",
    "- `SameAsMonthlyIncome` igual que `MonthlyIncome`"
   ]
  },
  {
   "cell_type": "markdown",
   "metadata": {},
   "source": [
    "- `employeecount`: todos los employees son únicos, no se necesita un conteo. La columna no aporta ninguna informacion relevante por lo que se podría eliminar."
   ]
  },
  {
   "cell_type": "code",
   "execution_count": null,
   "metadata": {},
   "outputs": [],
   "source": [
    "print(f\"Los valores únicos de la columna 'employeecount' son: {df_limpia['employeecount'].unique()}\")\n",
    "print(f\"Y el porcentaje de nulos es: {df_limpia['employeecount'].isnull().sum() / df_limpia.shape[0]}\")"
   ]
  },
  {
   "cell_type": "markdown",
   "metadata": {},
   "source": [
    "- `Over18`: La edad mínima en la columna `Age` es 18 y no tiene nulos, por lo que todos los employees son mayores de edad. La columna `Over18` debería de tener el valor `Y` (yes) para todas las filas, pero no aporta ninguna información relevante, por lo que también se podría eliminar."
   ]
  },
  {
   "cell_type": "code",
   "execution_count": null,
   "metadata": {},
   "outputs": [],
   "source": [
    "print(f\"Los valores únicos de la columna 'Over18' son: {df_limpia['Over18'].unique()}\")\n",
    "print(f\"Y el porcentaje de nulos de 'Over18' es: {round(df_limpia['Over18'].isnull().sum() / df_limpia.shape[0],2)}\")\n",
    "print(f\"La edad mínima en la columna 'Age' es: {df_limpia['Age'].min()}\")\n",
    "print(f\"Y el porcentaje de nulos de 'Age' es: {round(df_limpia['Age'].isnull().sum() / df_limpia.shape[0],2)}\")"
   ]
  },
  {
   "cell_type": "markdown",
   "metadata": {},
   "source": [
    "- `StandardHours`: El porcentaje de nulos en esta columna es muy alta y el único valor que tiene diferente al nulo es de 80. Esta columna no aporta información suficiente para poder imputarla, la vamos a eliminar."
   ]
  },
  {
   "cell_type": "code",
   "execution_count": null,
   "metadata": {},
   "outputs": [],
   "source": [
    "print(f\"Los valores únicos de la columna 'StandardHours' son: {df_limpia['StandardHours'].unique()}\")\n",
    "print(f\"Y el porcentaje de nulos de 'StandardHours' es: {round(df_limpia['StandardHours'].isnull().sum() / df_limpia.shape[0],2)}\")"
   ]
  },
  {
   "cell_type": "markdown",
   "metadata": {},
   "source": [
    "- `Salary`: Tiene un unico valor, 1000000000$. Es un valor demasiado elevado y es el mismo para todos los employees (no hay nulos), por lo que deducimos que son valores erróneos. Eliminaríamos esta columna también por incongruencia."
   ]
  },
  {
   "cell_type": "code",
   "execution_count": null,
   "metadata": {},
   "outputs": [],
   "source": [
    "print(f\"Los valores únicos de la columna 'Salary' son: {df_limpia['Salary'].unique()}\")\n",
    "print(f\"Y el porcentaje de nulos de 'Salary' es: {round(df_limpia['Salary'].isnull().sum() / df_limpia.shape[0],2)}\")"
   ]
  },
  {
   "cell_type": "markdown",
   "metadata": {},
   "source": [
    "- `RoleDepartament`: Esta columna repite la misma información que `Department` y `JobRole` y las combina (nos dan la misma información expresada de forma diferente), pero tiene un alto porcentaje de nulos, el mismo que `Department`. La información que aporta es redundante e incluso insuficiente por la cantidad de nulos, así que también la eliminaríamos."
   ]
  },
  {
   "cell_type": "code",
   "execution_count": null,
   "metadata": {},
   "outputs": [],
   "source": [
    "print(f\"Y el porcentaje de nulos de 'RoleDepartament' es: {round(df_limpia['RoleDepartament'].isnull().sum() / df_limpia.shape[0],2)}\")\n",
    "print(f\"Es el mismo porcentaje nulos que 'Department' es: {round(df_limpia['Department'].isnull().sum() / df_limpia.shape[0],2)}\\n\")\n",
    "print(f\"Un ejemplo de datos repetidos sería la fila 1428\\n{df_limpia.loc[1428,['JobRole','Department','RoleDepartament']]}\\n\")\n",
    "print(f\"Un ejemplo de datos nulos sería la fila 0\\n{df_limpia.loc[0,['JobRole','Department','RoleDepartament']]}\")"
   ]
  },
  {
   "cell_type": "markdown",
   "metadata": {},
   "source": [
    "- `NUMBERCHILDREN`: Todos los valores de esta columna son nulos, no aporta ninguna información por lo que la eliminaríamos."
   ]
  },
  {
   "cell_type": "code",
   "execution_count": null,
   "metadata": {},
   "outputs": [],
   "source": [
    "print(f\"El porcentaje de nulos de 'NUMBERCHILDREN' es: {round(df_limpia['NUMBERCHILDREN'].isnull().sum() / df_limpia.shape[0],2)}\")"
   ]
  },
  {
   "cell_type": "markdown",
   "metadata": {},
   "source": [
    "- `YearsInCurrentRole` alto porcentaje de nulos, no aporta información suficiente para imputarla, la eliminaríamos."
   ]
  },
  {
   "cell_type": "code",
   "execution_count": null,
   "metadata": {},
   "outputs": [],
   "source": [
    "print(f\"El porcentaje de nulos de 'YearsInCurrentRole' es: {round(df_limpia['YearsInCurrentRole'].isnull().sum() / df_limpia.shape[0],2)}\")"
   ]
  },
  {
   "cell_type": "markdown",
   "metadata": {},
   "source": [
    "- `SameAsMonthlyIncome`: Todos los valores de esta columna son iguales a los de `MonthlyIncome`, la información es redundante y se podría eliminar."
   ]
  },
  {
   "cell_type": "code",
   "execution_count": null,
   "metadata": {},
   "outputs": [],
   "source": [
    "# Comparo las columnas 'SameAsMonthlyIncome' y 'MonthlyIncome' para comprobar si son iguales\n",
    "son_iguales = df_limpia['SameAsMonthlyIncome'].equals(df_limpia['MonthlyIncome'])\n",
    "print(f\"Las columnas 'SameAsMonthlyIncome' y 'MonthlyIncome' son iguales: {son_iguales}\")"
   ]
  },
  {
   "cell_type": "markdown",
   "metadata": {},
   "source": [
    "En este primer filtro elimino las columnas anteriormente analizadas, ya que he comprobado que son redundantes o no aportan información suficiente."
   ]
  },
  {
   "cell_type": "code",
   "execution_count": null,
   "metadata": {},
   "outputs": [],
   "source": [
    "columnas_a_eliminar = ['employeecount','Over18','StandardHours','Salary','RoleDepartament','NUMBERCHILDREN','YearsInCurrentRole','SameAsMonthlyIncome']\n",
    "\n",
    "# Elimino las columnas de df_limpia, ya que es la copia del DataFrame que estoy limpiando\n",
    "df_limpia.drop(columnas_a_eliminar, axis = 1, inplace = True)\n",
    "df_limpia.head(3)"
   ]
  },
  {
   "cell_type": "markdown",
   "metadata": {},
   "source": [
    "## 2. Homogeneizamos el nombre de las columnas"
   ]
  },
  {
   "cell_type": "code",
   "execution_count": null,
   "metadata": {},
   "outputs": [],
   "source": [
    "nombres_snake_case = {\n",
    "    'employeenumber': 'EmployeeNumber',\n",
    "    'NUMCOMPANIESWORKED': 'NumCompaniesWorked',\n",
    "    'TOTALWORKINGYEARS': 'TotalWorkingYears',\n",
    "    'WORKLIFEBALANCE': 'WorkLifeBalance',\n",
    "    'YEARSWITHCURRMANAGER': 'YearsWithCurrManager',\n",
    "}\n",
    "\n",
    "# Renombro las columnas para que todas estén en SnakeCase y sobreescribo el DataFrame usando el método rename\n",
    "df_limpia.rename(columns=nombres_snake_case, inplace=True)\n",
    "df_limpia.sample(3)"
   ]
  },
  {
   "cell_type": "markdown",
   "metadata": {},
   "source": [
    "## 3. Homogeneizamos los valores de las columnas"
   ]
  },
  {
   "cell_type": "markdown",
   "metadata": {},
   "source": [
    "### 3.1 Estandarización valores numéricos"
   ]
  },
  {
   "cell_type": "markdown",
   "metadata": {},
   "source": [
    "\n",
    "#### 3.1.1 Columnas con valores categóricos que deberían de ser numéricas:\n",
    "\n",
    "- `Age`                          object -> num\n",
    "\n",
    "- `DailyRate`                    object -> num\n",
    "\n",
    "- `HourlyRate`                   object -> num\n",
    "\n",
    "- `MonthlyIncome`                object-> num\n",
    "\n",
    "- `PerformanceRating`            object -> num\n",
    "\n",
    "- `TOTALWORKINGYEARS`            object -> num\n",
    "\n",
    "- `WORKLIFEBALANCE`              object -> num\n",
    "\n",
    "- `YearsInCurrentRole`           object -> num"
   ]
  },
  {
   "cell_type": "markdown",
   "metadata": {},
   "source": [
    "- `Age`: Esta columna debería de ser numérica pero contiene algunos valores que son strings (numeros escritos). Creo una función para convertir las palabras a números, para ello me he instalado la librería `from word2number import w2n`"
   ]
  },
  {
   "cell_type": "code",
   "execution_count": null,
   "metadata": {},
   "outputs": [],
   "source": [
    "print(f\"Los valores únicos de la columna 'Age' son: {df_limpia['Age'].unique()}\\n\")\n",
    "print(f\"Y los valores nulos que hay en la columna son: {df_limpia['Age'].isnull().sum()}\")"
   ]
  },
  {
   "cell_type": "code",
   "execution_count": null,
   "metadata": {},
   "outputs": [],
   "source": [
    "# Función para convertir palabras a números\n",
    "def palabra_a_numero(age):\n",
    "    \n",
    "    # Intento convertir palabra a numero\n",
    "    try:\n",
    "        return w2n.word_to_num(age)\n",
    "    # Si me da error, es que ya es un numero que se puede convertir de str a int\n",
    "    except ValueError:\n",
    "        return int(age)\n",
    "        \n",
    "# Aplicamos la función a la columna 'Age'\n",
    "df_limpia['Age'] = df_limpia['Age'].apply(palabra_a_numero)\n",
    "\n",
    "# Verificamos que ya no hay palabras\n",
    "print(df_limpia['Age'].unique())"
   ]
  },
  {
   "cell_type": "markdown",
   "metadata": {},
   "source": [
    "- `DailyRate`, `HourlyRate`, `MonthlyIncome`, `TotalWorkingYears`, `WorkLifeBalance`, `PerformanceRating` son columnas que incluyen valores numericos decimales pero que aparecen como tipo string en el DataFrame. Estos valores se pueden convertir en numero enteros. Habría que sustituir la coma por un punto para poder pasar la cifra a float y después a integer, así como gestionar los 'nan' que son string para convertirlos en NaN.\n",
    "\n",
    "    Hay que tener en cuenta ciertas particularidades, ya que `DailyRate` tiene el símbolo dólar y los valores nulos de `HourlyRate` aparecen como 'Not available', "
   ]
  },
  {
   "cell_type": "code",
   "execution_count": null,
   "metadata": {},
   "outputs": [],
   "source": [
    "print(f\"Los valores únicos de la columna 'DailyRate' son strings: {df_limpia['DailyRate'].unique()}\")\n",
    "print(f\"Los valores únicos de la columna 'HourlyRate' son strings: {df_limpia['HourlyRate'].unique()}\")\n",
    "print(f\"Los valores únicos de la columna 'MonthlyIncome' son strings: {df_limpia['MonthlyIncome'].unique()}\")\n",
    "print(f\"Los valores únicos de la columna 'PerformanceRating' son strings: {df_limpia['PerformanceRating'].unique()}\\n\")\n",
    "print(f\"Los valores únicos de la columna 'TotalWorkingYears' son strings: {df_limpia['TotalWorkingYears'].unique()}\\n\")\n",
    "print(f\"Los valores únicos de la columna 'WorkLifeBalance' son strings: {df_limpia['WorkLifeBalance'].unique()}\")"
   ]
  },
  {
   "cell_type": "code",
   "execution_count": null,
   "metadata": {},
   "outputs": [],
   "source": [
    "def objeto_a_numero(cadena):\n",
    "    if isinstance(cadena, str):\n",
    "        cadena = cadena.replace('$', '').replace(',', '.')  # Reemplazar comas por puntos\n",
    "        if cadena == 'nan' or cadena == 'Not Available':  # Manejar el caso de 'nan'\n",
    "            return np.nan\n",
    "        else:\n",
    "            return float(cadena)  # Convertir a float y luego a int si no es 'nan'\n",
    "    else:\n",
    "        return cadena  # Devolver el valor original si no es una cadena\n",
    "    \n",
    "# Guardo en una lista las columnas que quiero convertir a enteros\n",
    "col_a_enteros = ['DailyRate','HourlyRate','MonthlyIncome','TotalWorkingYears','WorkLifeBalance','PerformanceRating']\n",
    "\n",
    "# Recorro la lista para aplicar a cada columna la funcion\n",
    "for col in col_a_enteros:\n",
    "    df_limpia[col] = df_limpia[col].apply(objeto_a_numero).astype('Int64')"
   ]
  },
  {
   "cell_type": "code",
   "execution_count": null,
   "metadata": {},
   "outputs": [],
   "source": [
    "df_limpia[col_a_enteros].dtypes\n"
   ]
  },
  {
   "cell_type": "code",
   "execution_count": null,
   "metadata": {},
   "outputs": [],
   "source": [
    "df_limpia[col_a_enteros].sample(5)"
   ]
  },
  {
   "cell_type": "markdown",
   "metadata": {},
   "source": [
    "    En pandas, el tipo Int64 es un tipo de entero que soporta valores nulos (NaN), y cuando se usa este tipo, los valores nulos se representan como <NA> en lugar de NaN. "
   ]
  },
  {
   "cell_type": "markdown",
   "metadata": {},
   "source": [
    "#### 3.1.2 Valores numéricos inconsistentes\n",
    "\n",
    "- La columna `DistanceFromHome` tiene valores negativos."
   ]
  },
  {
   "cell_type": "code",
   "execution_count": null,
   "metadata": {},
   "outputs": [],
   "source": [
    "print(f\"Los valores únicos de la columna 'DistanceFromHome' son strings: {df_limpia['DistanceFromHome'].unique()}\\n\")\n",
    "print(f\"Los valores nulos de la columna 'DistanceFromHome' son strings: {df_limpia['DistanceFromHome'].isnull().sum()}\")\n"
   ]
  },
  {
   "cell_type": "code",
   "execution_count": null,
   "metadata": {},
   "outputs": [],
   "source": [
    "# Si la columna contiene valores numéricos, conviértelos a positivos si son negativos\n",
    "df_limpia['DistanceFromHome'] = df_limpia['DistanceFromHome'].abs()\n",
    "\n",
    "# Verifico si hay valores negativos en la columna 'DistanceFromHome'\n",
    "hay_negativos = (df_limpia['DistanceFromHome'] < 0).any()\n",
    "\n",
    "if hay_negativos:\n",
    "    print(\"La columna 'DistanceFromHome' contiene valores negativos.\")\n",
    "else:\n",
    "    print(\"La columna 'DistanceFromHome' no contiene valores negativos.\")"
   ]
  },
  {
   "cell_type": "code",
   "execution_count": null,
   "metadata": {},
   "outputs": [],
   "source": [
    "# Eliminar los valores negativos de la columna DistanceFromHome\n",
    "#df_limpia['DistanceFromHome'] = df_limpia['DistanceFromHome'].apply(lambda x: x if x >= 0 else np.nan)\n",
    "\n",
    "# Convertir DistanceFromHome a entero\n",
    "#df_limpia['DistanceFromHome'] = df_limpia['DistanceFromHome'].astype('Int64')"
   ]
  },
  {
   "cell_type": "markdown",
   "metadata": {},
   "source": [
    "### 3.2 Estandarizar booleanos o valores binarios\n",
    "\n",
    "- `Gender` (int64) cambiar 0 y 1 a algo mas legible\n",
    "- `RemoteWork` (object) estandarizar valores"
   ]
  },
  {
   "cell_type": "markdown",
   "metadata": {},
   "source": [
    "- `Gender`: La columna `Gender` tiene valores de 0 y 1, los cuales son pocos intutitivos. Los reemplazo por \"Male\" y \"Female\", o \"M\" y \"F\" por ejemplo."
   ]
  },
  {
   "cell_type": "code",
   "execution_count": null,
   "metadata": {},
   "outputs": [],
   "source": [
    "print(f\"Los valores únicos de la columna 'Gender' son: {df_limpia['Gender'].unique()}\")"
   ]
  },
  {
   "cell_type": "code",
   "execution_count": null,
   "metadata": {},
   "outputs": [],
   "source": [
    "# Reemplazo los valores de la columna Gender por Female y Male\n",
    "df_limpia['Gender'] = df_limpia['Gender'].replace({0: 'Female', 1: 'Male'})\n",
    "print(f\"Después de la limpieza, los valores únicos de la columna 'Gender' son: {df_limpia['Gender'].unique()}\")"
   ]
  },
  {
   "cell_type": "markdown",
   "metadata": {},
   "source": [
    "- `RemoteWork`"
   ]
  },
  {
   "cell_type": "code",
   "execution_count": null,
   "metadata": {},
   "outputs": [],
   "source": [
    "# Habría que estandarizar los datos 1/0, 'yes'/'no', 'false'/'true' del atributo RemoteWork\n",
    "print(f\"Los valores únicos de la columna 'RemoteWork' son: {df_limpia['RemoteWork'].unique()}\")"
   ]
  },
  {
   "cell_type": "code",
   "execution_count": null,
   "metadata": {},
   "outputs": [],
   "source": [
    "# Habría que estandarizar los datos 1/0, 'yes'/'no', 'false'/'true' del atributo RemoteWork\n",
    "# Para una mayor legibilidad usamos los valores True/False en Remote Work\n",
    "rw_datos_limpios = {\n",
    "    'yes': True,\n",
    "    '1': True,\n",
    "    '0': False,\n",
    "    'true': True,\n",
    "    'false': False\n",
    "}\n",
    "\n",
    "df_limpia['RemoteWork'] = df_limpia['RemoteWork'].replace(rw_datos_limpios)\n",
    "print(f\"Después de la limpieza, los valores únicos de la columna 'RemoteWork' son: {df_limpia['RemoteWork'].unique()}\")"
   ]
  },
  {
   "cell_type": "markdown",
   "metadata": {},
   "source": [
    "### 3.3 Estandarización strings\n",
    "\n",
    "- `BusinessTravel` (object) tiene guiones medios y bajos, estandarizar a guion bajo\n",
    "- `Department`(object) tiene espacios al principio y al final, así como símbolo como '&'\n",
    "- `JobRole`(object) iene espacios al principio y al final, y también letras en minusculas y en mayusculas\n",
    "- `MaritalStatus` (object) revisar valores con faltas ortograficas"
   ]
  },
  {
   "cell_type": "code",
   "execution_count": null,
   "metadata": {},
   "outputs": [],
   "source": [
    "print(f\"Los valore únicos de la columna 'Attrition' son: {df_limpia['Attrition'].unique()}\\n\")\n",
    "print(f\"Los valore únicos de la columna 'BusinessTravel' son: {df_limpia['BusinessTravel'].unique()}\\n\")\n",
    "print(f\"Los valore únicos de la columna 'Department' son: {df_limpia['Department'].unique()}\\n\")\n",
    "print(f\"Los valore únicos de la columna 'EducationField' son: {df_limpia['EducationField'].unique()}\\n\")\n",
    "print(f\"Los valore únicos de la columna 'Gender' son: {df_limpia['Gender'].unique()}\\n\")\n",
    "print(f\"Los valore únicos de la columna 'JobRole' son: {df_limpia['JobRole'].unique()}\\n\")\n",
    "print(f\"Los valore únicos de la columna 'MaritalStatus' son: {df_limpia['MaritalStatus'].unique()}\\n\")"
   ]
  },
  {
   "cell_type": "code",
   "execution_count": null,
   "metadata": {},
   "outputs": [],
   "source": [
    "df_limpia.tail()"
   ]
  },
  {
   "cell_type": "code",
   "execution_count": null,
   "metadata": {},
   "outputs": [],
   "source": [
    "# Función para reemplazar guiones medios y los espacios por guiones bajos, poner todo en minuscula y sustituir el simbolo '&' por 'and'\n",
    "def estandarizar_texto(value):\n",
    "    if isinstance(value, str):\n",
    "        return value.lower().strip().replace('-', '_').replace(' ','_').replace('&','and')\n",
    "    return value\n",
    "\n",
    "# Aplicar la función a todas las columnas\n",
    "df_limpia= df_limpia.applymap(estandarizar_texto)\n",
    "\n",
    "# Verificar el resultado\n",
    "df_limpia.tail()"
   ]
  },
  {
   "cell_type": "code",
   "execution_count": null,
   "metadata": {},
   "outputs": [],
   "source": [
    "print(f\"Los valore únicos de la columna 'Attrition' son: {df_limpia['Attrition'].unique()}\\n\")\n",
    "print(f\"Los valore únicos de la columna 'BusinessTravel' son: {df_limpia['BusinessTravel'].unique()}\\n\")\n",
    "print(f\"Los valore únicos de la columna 'Department' son: {df_limpia['Department'].unique()}\\n\")\n",
    "print(f\"Los valore únicos de la columna 'EducationField' son: {df_limpia['EducationField'].unique()}\\n\")\n",
    "print(f\"Los valore únicos de la columna 'Gender' son: {df_limpia['Gender'].unique()}\\n\")\n",
    "print(f\"Los valore únicos de la columna 'JobRole' son: {df_limpia['JobRole'].unique()}\\n\")\n",
    "print(f\"Los valore únicos de la columna 'MaritalStatus' son: {df_limpia['MaritalStatus'].unique()}\\n\")"
   ]
  },
  {
   "cell_type": "markdown",
   "metadata": {},
   "source": [
    "- En algunos valores de las columnas categóricas, por ejemplo, en la columna `MaritalStatus` en vez de \"Married\" en algunas filas aparece \"Marreid\". También aparecía 'Divorced' y 'divorced' como valores diferentes, pero con la función anterior ya se ha solucionado."
   ]
  },
  {
   "cell_type": "code",
   "execution_count": null,
   "metadata": {},
   "outputs": [],
   "source": [
    "print(f\"Los valores únicos de la columna 'MaritalStatus' son: {df_limpia['MaritalStatus'].unique()}\")"
   ]
  },
  {
   "cell_type": "code",
   "execution_count": null,
   "metadata": {},
   "outputs": [],
   "source": [
    "# Uso el método replace y compruebo que se ha cambiado\n",
    "df_limpia['MaritalStatus'] = df_limpia['MaritalStatus'].replace('marreid', 'married')\n",
    "print(f\"Después de la limpieza, los valores únicos de la columna 'MaritalStatus' son: {df_limpia['MaritalStatus'].unique()}\")"
   ]
  },
  {
   "cell_type": "markdown",
   "metadata": {},
   "source": [
    "## 4. Valores duplicados, insuficientes o incongruentes"
   ]
  },
  {
   "cell_type": "markdown",
   "metadata": {},
   "source": [
    "### Eliminamos columnas con demasiados nulos"
   ]
  },
  {
   "cell_type": "markdown",
   "metadata": {},
   "source": [
    "- Si el 80% de los registros son nulos eliminamos los atributos:"
   ]
  },
  {
   "cell_type": "code",
   "execution_count": null,
   "metadata": {},
   "outputs": [],
   "source": [
    "# Calcula el porcentaje de valores nulos para cada atributo\n",
    "porcentaje_nulos = df_limpia.isna().mean() * 100\n",
    "\n",
    "# Filtra los atributos donde el porcentaje de nulos sea mayor al 80%\n",
    "columnas_80_nulos = porcentaje_nulos[porcentaje_nulos > 80]\n",
    "\n",
    "# Obtiene los nombres de los atributos \n",
    "columnas_a_eliminar = columnas_80_nulos.index.tolist()\n",
    "print(\"Atributos con más del 80/%/ de valores nulos:\")\n",
    "print(columnas_a_eliminar)"
   ]
  },
  {
   "cell_type": "code",
   "execution_count": null,
   "metadata": {},
   "outputs": [],
   "source": [
    "# Eliminamos las columnas seleccionadas\n",
    "# df_limpia.drop(columns=columnas_a_eliminar, axis = 1, inplace=True)\n",
    "# print(f\"Las columnas {columnas_a_eliminar} han sido eliminadas\")"
   ]
  },
  {
   "cell_type": "code",
   "execution_count": null,
   "metadata": {},
   "outputs": [],
   "source": [
    "# Guardamos el DataFrame limpio en un nuevo archivo CSV\n",
    "output_file_path = 'hr_data_limpio.csv'\n",
    "df_limpia.to_csv(output_file_path, index=False)\n",
    "print(f\"El DataFrame modificado ha sido guardado en '{output_file_path}'.\")"
   ]
  }
 ],
 "metadata": {
  "kernelspec": {
   "display_name": "Python 3",
   "language": "python",
   "name": "python3"
  },
  "language_info": {
   "codemirror_mode": {
    "name": "ipython",
    "version": 3
   },
   "file_extension": ".py",
   "mimetype": "text/x-python",
   "name": "python",
   "nbconvert_exporter": "python",
   "pygments_lexer": "ipython3",
   "version": "3.11.9"
  }
 },
 "nbformat": 4,
 "nbformat_minor": 2
}
