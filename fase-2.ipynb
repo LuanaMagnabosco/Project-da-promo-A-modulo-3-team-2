{
 "cells": [
  {
   "cell_type": "markdown",
   "metadata": {},
   "source": [
    "# Fase 2: Transformación de los datos.\n"
   ]
  },
  {
   "cell_type": "code",
   "execution_count": 1,
   "metadata": {},
   "outputs": [],
   "source": [
    "import pandas as pd\n",
    "import numpy as np"
   ]
  },
  {
   "cell_type": "code",
   "execution_count": 2,
   "metadata": {},
   "outputs": [
    {
     "ename": "NameError",
     "evalue": "name 'df' is not defined",
     "output_type": "error",
     "traceback": [
      "\u001b[1;31m---------------------------------------------------------------------------\u001b[0m",
      "\u001b[1;31mNameError\u001b[0m                                 Traceback (most recent call last)",
      "Cell \u001b[1;32mIn[2], line 3\u001b[0m\n\u001b[0;32m      1\u001b[0m \u001b[38;5;66;03m# Supongamos que 'df' es el DataFrame cargado con los datos.\u001b[39;00m\n\u001b[0;32m      2\u001b[0m \u001b[38;5;66;03m# 1. Reemplazo de valores en la columna Gender\u001b[39;00m\n\u001b[1;32m----> 3\u001b[0m df[\u001b[38;5;124m'\u001b[39m\u001b[38;5;124mGender\u001b[39m\u001b[38;5;124m'\u001b[39m] \u001b[38;5;241m=\u001b[39m \u001b[43mdf\u001b[49m[\u001b[38;5;124m'\u001b[39m\u001b[38;5;124mGender\u001b[39m\u001b[38;5;124m'\u001b[39m]\u001b[38;5;241m.\u001b[39mreplace({\u001b[38;5;241m0\u001b[39m: \u001b[38;5;124m'\u001b[39m\u001b[38;5;124mMale\u001b[39m\u001b[38;5;124m'\u001b[39m, \u001b[38;5;241m1\u001b[39m: \u001b[38;5;124m'\u001b[39m\u001b[38;5;124mFemale\u001b[39m\u001b[38;5;124m'\u001b[39m})\n\u001b[0;32m      4\u001b[0m \u001b[38;5;28mprint\u001b[39m(\u001b[38;5;124m\"\u001b[39m\u001b[38;5;124mValores únicos en \u001b[39m\u001b[38;5;124m'\u001b[39m\u001b[38;5;124mGender\u001b[39m\u001b[38;5;124m'\u001b[39m\u001b[38;5;124m:\u001b[39m\u001b[38;5;124m\"\u001b[39m, df[\u001b[38;5;124m'\u001b[39m\u001b[38;5;124mGender\u001b[39m\u001b[38;5;124m'\u001b[39m]\u001b[38;5;241m.\u001b[39munique())\n\u001b[0;32m      5\u001b[0m \u001b[38;5;66;03m# 2. Conversión de tipo de datos para la columna DailyRate\u001b[39;00m\n",
      "\u001b[1;31mNameError\u001b[0m: name 'df' is not defined"
     ]
    }
   ],
   "source": [
    "# Supongamos que 'df' es el DataFrame cargado con los datos.\n",
    "# 1. Reemplazo de valores en la columna Gender\n",
    "df['Gender'] = df['Gender'].replace({0: 'Male', 1: 'Female'})\n",
    "print(\"Valores únicos en 'Gender':\", df['Gender'].unique())\n",
    "\n",
    "# 2. Conversión de tipo de datos para la columna DailyRate\n",
    "df['DailyRate'] = pd.to_numeric(df['DailyRate'], errors='coerce')\n",
    "print(\"Tipo de datos de 'DailyRate':\", df['DailyRate'].dtype)\n",
    "\n",
    "# 3. Evaluación y eliminación de valores duplicados\n",
    "print(\"Número de duplicados antes:\", df.duplicated().sum())\n",
    "df = df.drop_duplicates()\n",
    "print(\"Número de duplicados después:\", df.duplicated().sum())\n",
    "\n",
    "# 4. Corrección de valores inconsistentes en la columna DistanceFromHome\n",
    "df['DistanceFromHome'] = df['DistanceFromHome'].apply(lambda x: abs(x))\n",
    "print(\"Valores negativos en 'DistanceFromHome':\", (df['DistanceFromHome'] < 0).sum())\n",
    "\n",
    "# 5. Corrección de errores tipográficos en columnas categóricas\n",
    "df['MaritalStatus'] = df['MaritalStatus'].replace({'Marreid': 'Married'})\n",
    "print(\"Valores únicos en 'MaritalStatus':\", df['MaritalStatus'].unique())\n",
    "\n",
    "# 6. Identificación y eliminación de columnas redundantes\n",
    "# Supongamos que 'ColumnA' y 'ColumnB' son redundantes.\n",
    "# Esta parte es subjetiva y depende del análisis específico.\n",
    "# Ejemplo:\n",
    "if 'ColumnA' in df.columns and 'ColumnB' in df.columns:\n",
    "    print(\"Eliminando 'ColumnB' ya que es redundante con 'ColumnA'\")\n",
    "    df = df.drop(columns=['ColumnB'])\n",
    "# Verificación final del DataFrame\n",
    "print(df.info())\n",
    "print(df.head())\n",
    "# Guardar el DataFrame transformado\n",
    "df.to_csv('data_transformada.csv', index=False)"
   ]
  },
  {
   "cell_type": "code",
   "execution_count": null,
   "metadata": {},
   "outputs": [],
   "source": [
    "# 2. Conversión de tipo de datos para la columna DailyRate\n",
    "df['DailyRate'] = pd.to_numeric(df['DailyRate'], errors='coerce')\n",
    "print(\"Tipo de datos de 'DailyRate':\", df['DailyRate'].dtype)\n",
    "# 3. Evaluación y eliminación de valores duplicados\n",
    "print(\"Número de duplicados antes:\", df.duplicated().sum())\n",
    "df = df.drop_duplicates()\n",
    "print(\"Número de duplicados después:\", df.duplicated().sum())\n",
    "# 4. Corrección de valores inconsistentes en la columna DistanceFromHome\n",
    "df['DistanceFromHome'] = df['DistanceFromHome'].apply(lambda x: abs(x))\n",
    "print(\"Valores negativos en 'DistanceFromHome':\", (df['DistanceFromHome'] < 0).sum())\n",
    "# 5. Corrección de errores tipográficos en columnas categóricas\n",
    "df['MaritalStatus'] = df['MaritalStatus'].replace({'Marreid': 'Married'})\n",
    "print(\"Valores únicos en 'MaritalStatus':\", df['MaritalStatus'].unique())\n",
    "# 6. Identificación y eliminación de columnas redundantes\n",
    "# Supongamos que 'ColumnA' y 'ColumnB' son redundantes.\n",
    "# Esta parte es subjetiva y depende del análisis específico.\n",
    "# Ejemplo:\n",
    "if 'ColumnA' in df.columns and 'ColumnB' in df.columns:\n",
    "    print(\"Eliminando 'ColumnB' ya que es redundante con 'ColumnA'\")\n",
    "    df = df.drop(columns=['ColumnB'])\n",
    "# Verificación final del DataFrame\n",
    "print(df.info())\n",
    "print(df.head())\n",
    "# Guardar el DataFrame transformado\n",
    "df.to_csv('data_transformada.csv', index=False)"
   ]
  }
 ],
 "metadata": {
  "kernelspec": {
   "display_name": "Python 3",
   "language": "python",
   "name": "python3"
  },
  "language_info": {
   "codemirror_mode": {
    "name": "ipython",
    "version": 3
   },
   "file_extension": ".py",
   "mimetype": "text/x-python",
   "name": "python",
   "nbconvert_exporter": "python",
   "pygments_lexer": "ipython3",
   "version": "3.11.9"
  }
 },
 "nbformat": 4,
 "nbformat_minor": 2
}
