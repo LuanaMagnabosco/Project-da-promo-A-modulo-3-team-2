{
 "cells": [
  {
   "cell_type": "code",
   "execution_count": 1,
   "metadata": {},
   "outputs": [],
   "source": [
    "# importamos las librerías que necesitamos\n",
    "\n",
    "# Tratamiento de datos\n",
    "# -----------------------------------------------------------------------\n",
    "import pandas as pd\n",
    "import numpy as np\n",
    "\n",
    "# Visualización\n",
    "# ------------------------------------------------------------------------------\n",
    "import matplotlib.pyplot as plt\n",
    "import seaborn as sns\n",
    "\n",
    "# Evaluar linealidad de las relaciones entre las variables\n",
    "# y la distribución de las variables\n",
    "# ------------------------------------------------------------------------------\n",
    "#import scipy.stats as stats\n",
    "import scipy.stats as stats\n",
    "from scipy.stats import shapiro, poisson, chisquare, expon, kstest\n",
    "\n",
    "\n",
    "# Configuración\n",
    "# -----------------------------------------------------------------------\n",
    "pd.set_option('display.max_columns', None) # para poder visualizar todas las columnas de los DataFrames\n",
    "\n",
    "# Gestión de los warnings\n",
    "# -----------------------------------------------------------------------\n",
    "import warnings\n",
    "warnings.filterwarnings(\"ignore\")"
   ]
  },
  {
   "cell_type": "markdown",
   "metadata": {},
   "source": [
    "# Fase 4: Problema de A/B Testing."
   ]
  },
  {
   "cell_type": "markdown",
   "metadata": {},
   "source": [
    "El objetivo de esta fase es determinar si existe una relación entre el nivel de satisfacción en el trabajo y la rotación de empleados, y si es así, cuál es la magnitud de esa relación. Partiremos de la siguiente hipótesis, \"Existe una relación entre el nivel de satisfacción en el trabajo y la rotación de empleados en la empresa. Se sospecha que los empleados con niveles de satisfacción más bajos tienen una mayor probabilidad de dejar la empresa\". Para ello deberéis crear una columna nueva en base al nivel de satisfacción en el trabajo para crear dos grupos, las condiciones para crear los grupos son:\n",
    "\n",
    "- **Grupo A (Control):** Empleados con un nivel de satisfacción en el trabajo igual o superior a 3 en una escala de 1 a 5.\n",
    "\n",
    "- **Grupo B (Variante):** Empleados con un nivel de satisfacción en el trabajo inferior a 3 en la misma escala.\n",
    "\n",
    "La **métrica principal** que debes usar es la tasa de rotación de empleados (Attrition) en cada grupo. Recordemos que, en esta columna, \"No\" indica que el empleado no ha dejado la empresa (sin rotación), mientras que \"Yes\" indica que el empleado ha dejado la empresa (con rotación).\n",
    "\n",
    "Por lo tanto, los pasos que deberás seguir en esta fase son:\n",
    "\n",
    "1. Divide a los empleados en los grupos A y B según los criterios establecidos.\n",
    "\n",
    "2. Calcula la tasa de rotación (porcentaje de empleados que dejaron la empresa) en cada grupo.\n",
    "\n",
    "3. Realiza un análisis estadístico para determinar si hay una diferencia significativa en la tasa de rotación entre los grupos A y B.\n",
    "\n",
    "4. Analiza los resultados.\n",
    "\n",
    "5. Calcular la magnitud de esta relación utilizando estadísticas como la diferencia de medias por ejemplo."
   ]
  },
  {
   "cell_type": "code",
   "execution_count": 6,
   "metadata": {},
   "outputs": [
    {
     "data": {
      "text/html": [
       "<div>\n",
       "<style scoped>\n",
       "    .dataframe tbody tr th:only-of-type {\n",
       "        vertical-align: middle;\n",
       "    }\n",
       "\n",
       "    .dataframe tbody tr th {\n",
       "        vertical-align: top;\n",
       "    }\n",
       "\n",
       "    .dataframe thead th {\n",
       "        text-align: right;\n",
       "    }\n",
       "</style>\n",
       "<table border=\"1\" class=\"dataframe\">\n",
       "  <thead>\n",
       "    <tr style=\"text-align: right;\">\n",
       "      <th></th>\n",
       "      <th>Attrition</th>\n",
       "      <th>BusinessTravel</th>\n",
       "      <th>DailyRate</th>\n",
       "      <th>DistanceFromHome</th>\n",
       "      <th>Education</th>\n",
       "      <th>EducationField</th>\n",
       "      <th>EmployeeNumber</th>\n",
       "      <th>EnvironmentSatisfaction</th>\n",
       "      <th>Gender</th>\n",
       "      <th>HourlyRate</th>\n",
       "      <th>JobInvolvement</th>\n",
       "      <th>JobLevel</th>\n",
       "      <th>JobRole</th>\n",
       "      <th>JobSatisfaction</th>\n",
       "      <th>MaritalStatus</th>\n",
       "      <th>MonthlyRate</th>\n",
       "      <th>NumCompaniesWorked</th>\n",
       "      <th>OverTime</th>\n",
       "      <th>PercentSalaryHike</th>\n",
       "      <th>RelationshipSatisfaction</th>\n",
       "      <th>StockOptionLevel</th>\n",
       "      <th>TrainingTimesLastYear</th>\n",
       "      <th>WorkLifeBalance</th>\n",
       "      <th>YearsAtCompany</th>\n",
       "      <th>YearsSinceLastPromotion</th>\n",
       "      <th>YearsWithCurrManager</th>\n",
       "      <th>DateBirth</th>\n",
       "      <th>RemoteWork</th>\n",
       "      <th>PerformanceRating</th>\n",
       "      <th>TotalWorkingYears</th>\n",
       "      <th>MonthlyIncome</th>\n",
       "    </tr>\n",
       "  </thead>\n",
       "  <tbody>\n",
       "    <tr>\n",
       "      <th>0</th>\n",
       "      <td>no</td>\n",
       "      <td>unknown</td>\n",
       "      <td>684.0</td>\n",
       "      <td>6</td>\n",
       "      <td>3</td>\n",
       "      <td>unknown</td>\n",
       "      <td>162,0</td>\n",
       "      <td>1</td>\n",
       "      <td>female</td>\n",
       "      <td>51.0</td>\n",
       "      <td>3</td>\n",
       "      <td>5</td>\n",
       "      <td>research_director</td>\n",
       "      <td>3</td>\n",
       "      <td>unknown</td>\n",
       "      <td>6462</td>\n",
       "      <td>7</td>\n",
       "      <td>no</td>\n",
       "      <td>13</td>\n",
       "      <td>3</td>\n",
       "      <td>0</td>\n",
       "      <td>5</td>\n",
       "      <td>3.0</td>\n",
       "      <td>20</td>\n",
       "      <td>15</td>\n",
       "      <td>15</td>\n",
       "      <td>1972</td>\n",
       "      <td>yes</td>\n",
       "      <td>3.0</td>\n",
       "      <td>32.595028</td>\n",
       "      <td>19537.0</td>\n",
       "    </tr>\n",
       "    <tr>\n",
       "      <th>1</th>\n",
       "      <td>no</td>\n",
       "      <td>unknown</td>\n",
       "      <td>699.0</td>\n",
       "      <td>1</td>\n",
       "      <td>4</td>\n",
       "      <td>life_sciences</td>\n",
       "      <td>259,0</td>\n",
       "      <td>3</td>\n",
       "      <td>female</td>\n",
       "      <td>65.0</td>\n",
       "      <td>2</td>\n",
       "      <td>5</td>\n",
       "      <td>manager</td>\n",
       "      <td>3</td>\n",
       "      <td>unknown</td>\n",
       "      <td>5678</td>\n",
       "      <td>0</td>\n",
       "      <td>unknown</td>\n",
       "      <td>14</td>\n",
       "      <td>1</td>\n",
       "      <td>1</td>\n",
       "      <td>5</td>\n",
       "      <td>3.0</td>\n",
       "      <td>33</td>\n",
       "      <td>11</td>\n",
       "      <td>9</td>\n",
       "      <td>1971</td>\n",
       "      <td>yes</td>\n",
       "      <td>3.0</td>\n",
       "      <td>34.000000</td>\n",
       "      <td>19999.0</td>\n",
       "    </tr>\n",
       "  </tbody>\n",
       "</table>\n",
       "</div>"
      ],
      "text/plain": [
       "  Attrition BusinessTravel  DailyRate  DistanceFromHome  Education  \\\n",
       "0        no        unknown      684.0                 6          3   \n",
       "1        no        unknown      699.0                 1          4   \n",
       "\n",
       "  EducationField EmployeeNumber  EnvironmentSatisfaction  Gender  HourlyRate  \\\n",
       "0        unknown          162,0                        1  female        51.0   \n",
       "1  life_sciences          259,0                        3  female        65.0   \n",
       "\n",
       "   JobInvolvement  JobLevel            JobRole  JobSatisfaction MaritalStatus  \\\n",
       "0               3         5  research_director                3       unknown   \n",
       "1               2         5            manager                3       unknown   \n",
       "\n",
       "   MonthlyRate  NumCompaniesWorked OverTime  PercentSalaryHike  \\\n",
       "0         6462                   7       no                 13   \n",
       "1         5678                   0  unknown                 14   \n",
       "\n",
       "   RelationshipSatisfaction  StockOptionLevel  TrainingTimesLastYear  \\\n",
       "0                         3                 0                      5   \n",
       "1                         1                 1                      5   \n",
       "\n",
       "   WorkLifeBalance  YearsAtCompany  YearsSinceLastPromotion  \\\n",
       "0              3.0              20                       15   \n",
       "1              3.0              33                       11   \n",
       "\n",
       "   YearsWithCurrManager  DateBirth RemoteWork  PerformanceRating  \\\n",
       "0                    15       1972        yes                3.0   \n",
       "1                     9       1971        yes                3.0   \n",
       "\n",
       "   TotalWorkingYears  MonthlyIncome  \n",
       "0          32.595028        19537.0  \n",
       "1          34.000000        19999.0  "
      ]
     },
     "execution_count": 6,
     "metadata": {},
     "output_type": "execute_result"
    }
   ],
   "source": [
    "# lo primero que hacemos es cargar el dataframe que vamos a usar para esta lección\n",
    "df = pd.read_csv(\"df_imputada.csv\")\n",
    "df.head(2)"
   ]
  },
  {
   "cell_type": "code",
   "execution_count": 13,
   "metadata": {},
   "outputs": [
    {
     "data": {
      "text/plain": [
       "array([3, 4, 1, 2])"
      ]
     },
     "execution_count": 13,
     "metadata": {},
     "output_type": "execute_result"
    }
   ],
   "source": [
    "df['JobSatisfaction'].unique()"
   ]
  },
  {
   "cell_type": "code",
   "execution_count": 15,
   "metadata": {},
   "outputs": [
    {
     "name": "stdout",
     "output_type": "stream",
     "text": [
      "Tasa de rotación en Grupo A: 13.67%\n",
      "Tasa de rotación en Grupo B: 19.87%\n",
      "P-valor de la prueba t:  0.0\n"
     ]
    },
    {
     "data": {
      "image/png": "[encoded data removed]",
      "text/plain": [
       "<Figure size 640x480 with 1 Axes>"
      ]
     },
     "metadata": {},
     "output_type": "display_data"
    }
   ],
   "source": [
    "df = pd.DataFrame(df)\n",
    "\n",
    "# Divide a los empleados en grupos A y B\n",
    "grupo_A = df[df['JobSatisfaction'] >= 3]\n",
    "grupo_B = df[df['JobSatisfaction'] < 3]\n",
    "\n",
    "# Calcula la tasa de rotación en cada grupo\n",
    "tasa_rotacion_A = grupo_A['Attrition'].value_counts(normalize=True)['yes']\n",
    "tasa_rotacion_B = grupo_B['Attrition'].value_counts(normalize=True)['yes']\n",
    "\n",
    "# Realiza una prueba de hipótesis (prueba t de Student)\n",
    "t_stat, p_value = stats.ttest_ind(grupo_A['JobSatisfaction'], grupo_B['JobSatisfaction'])\n",
    "\n",
    "# Imprime los resultados\n",
    "print(f\"Tasa de rotación en Grupo A: {tasa_rotacion_A:.2%}\")\n",
    "print(f\"Tasa de rotación en Grupo B: {tasa_rotacion_B:.2%}\")\n",
    "print(f\"P-valor de la prueba t: {p_value: 0.05}\")\n",
    "\n",
    "# Visualiza los datos\n",
    "plt.bar(['Grupo A', 'Grupo B'], [tasa_rotacion_A, tasa_rotacion_B])\n",
    "plt.ylabel('Tasa de Rotación')\n",
    "plt.title('Comparación de Tasa de Rotación entre Grupos A y B')\n",
    "plt.show()"
   ]
  },
  {
   "cell_type": "code",
   "execution_count": 14,
   "metadata": {},
   "outputs": [
    {
     "name": "stdout",
     "output_type": "stream",
     "text": [
      "Group\n",
      "A    0.0\n",
      "B    0.0\n",
      "Name: Attrition, dtype: float64\n",
      "Chi2: 10.896830732804563, p-value: 0.0009632893461685967\n"
     ]
    }
   ],
   "source": [
    "# Dividir en grupos A y B según la satisfacción en el trabajo\n",
    "df['Group'] = df['JobSatisfaction'].apply(lambda x: 'A' if x >= 3 else 'B')\n",
    "\n",
    "# Calcular la tasa de rotación para cada grupo\n",
    "attrition_rates = df.groupby('Group')['Attrition'].apply(lambda x: (x == 'Yes').mean())\n",
    "\n",
    "# Mostrar las tasas de rotación\n",
    "print(attrition_rates)\n",
    "\n",
    "# Análisis estadístico: Prueba de diferencia de proporciones\n",
    "# Crear tablas de contingencia\n",
    "contingency_table = pd.crosstab(df['Attrition'], df['Group'])\n",
    "\n",
    "# Realizar la prueba de diferencia de proporciones\n",
    "chi2, p, dof, ex = stats.chi2_contingency(contingency_table, correction=False)\n",
    "\n",
    "# Mostrar resultados del análisis\n",
    "print(f\"Chi2: {chi2}, p-value: {p}\")"
   ]
  },
  {
   "cell_type": "markdown",
   "metadata": {},
   "source": [
    "Prueba t de Student\n",
    "T-Test Independiente:\n",
    "- Normalidad en ambos grupos.\n",
    "- Homogeneidad de varianza en ambos grupos\n",
    "\n",
    "\n",
    "en general observamos que hay tres:\n",
    "\n",
    "- Normalidad (Prueba de Shapiro-Wilk o Prueba Kolmogorov-Smirnov) - Verificar si los datos siguen una distribución normal.\n",
    "\n",
    "- Homogeneidad de varianzas (Prueba de Levene o Prueba de Bartlett) - Verificar si las varianzas son homogéneas entre grupos.\n",
    "\n",
    "- Independencia entre las observaciones"
   ]
  },
  {
   "cell_type": "code",
   "execution_count": 18,
   "metadata": {},
   "outputs": [
    {
     "name": "stdout",
     "output_type": "stream",
     "text": [
      "Rechazamos la hipótesis nula.\n",
      "Hay una diferencia significativa en el nivel de satisfaccion promedio entre los dos grupos.\n"
     ]
    }
   ],
   "source": [
    "# vamos a definir una función para poder hacer el t-test de Student\n",
    "\n",
    "def prueba_hipotesis(*args):\n",
    "    \n",
    "    # lo primero que tenemos que hacer es mirar si las varianzas son iguales o no\n",
    "    if len(args) == 2:\n",
    "        p_valor_varianza = stats.levene(*args, center = \"median\")[1]\n",
    "    else:\n",
    "        p_valor_varianza = stats.bartlett(*args)[1]\n",
    "    \n",
    "    if p_valor_varianza > 0.05:\n",
    "        # realizamos la prueba t de Student\n",
    "        t_stat, p_valor = stats.ttest_ind(*args, equal_var=True)\n",
    "    else:\n",
    "        t_stat, p_valor = stats.ttest_ind(*args, equal_var=False)\n",
    "        \n",
    "    # Establecemos un nivel de significancia (alfa)\n",
    "    alfa = 0.05\n",
    "\n",
    "    # comparamos el p-valor con el nivel de significancia\n",
    "    if p_valor < alfa:\n",
    "        print(\"Rechazamos la hipótesis nula.\")\n",
    "        print(\"Hay una diferencia significativa en el nivel de satisfaccion promedio entre los dos grupos.\")\n",
    "    else:\n",
    "        print(\"No podemos rechazar la hipótesis nula.\")\n",
    "        print(\"No hay evidencia suficiente para afirmar una diferencia significativa en el nivel de satisfaccion promedio entre los dos grupos.\")\n",
    "        \n",
    "# filtramos los datos para obtener dos grupos: \n",
    "grupo_A = df[df['Attrition'] == 'yes']['JobSatisfaction']\n",
    "grupo_B = df[df['Attrition'] == 'no']['JobSatisfaction']\n",
    "\n",
    "# llamamos a la función que hemos creado\n",
    "prueba_hipotesis(grupo_A, grupo_B)"
   ]
  },
  {
   "cell_type": "code",
   "execution_count": 21,
   "metadata": {},
   "outputs": [],
   "source": [
    "# Divide a los empleados en grupos A y B\n",
    "grupo_A = df[df['Attrition'] == 'yes']['JobSatisfaction']\n",
    "grupo_B = df[df['Attrition'] == 'no']['JobSatisfaction']"
   ]
  },
  {
   "cell_type": "code",
   "execution_count": 22,
   "metadata": {},
   "outputs": [
    {
     "ename": "KeyError",
     "evalue": "'JobSatisfaction'",
     "output_type": "error",
     "traceback": [
      "\u001b[0;31m---------------------------------------------------------------------------\u001b[0m",
      "\u001b[0;31mKeyError\u001b[0m                                  Traceback (most recent call last)",
      "File \u001b[0;32m~/anaconda3/lib/python3.11/site-packages/pandas/core/indexes/base.py:3653\u001b[0m, in \u001b[0;36mIndex.get_loc\u001b[0;34m(self, key)\u001b[0m\n\u001b[1;32m   3652\u001b[0m \u001b[38;5;28;01mtry\u001b[39;00m:\n\u001b[0;32m-> 3653\u001b[0m     \u001b[38;5;28;01mreturn\u001b[39;00m \u001b[38;5;28mself\u001b[39m\u001b[38;5;241m.\u001b[39m_engine\u001b[38;5;241m.\u001b[39mget_loc(casted_key)\n\u001b[1;32m   3654\u001b[0m \u001b[38;5;28;01mexcept\u001b[39;00m \u001b[38;5;167;01mKeyError\u001b[39;00m \u001b[38;5;28;01mas\u001b[39;00m err:\n",
      "File \u001b[0;32m~/anaconda3/lib/python3.11/site-packages/pandas/_libs/index.pyx:147\u001b[0m, in \u001b[0;36mpandas._libs.index.IndexEngine.get_loc\u001b[0;34m()\u001b[0m\n",
      "File \u001b[0;32m~/anaconda3/lib/python3.11/site-packages/pandas/_libs/index.pyx:155\u001b[0m, in \u001b[0;36mpandas._libs.index.IndexEngine.get_loc\u001b[0;34m()\u001b[0m\n",
      "File \u001b[0;32mpandas/_libs/index_class_helper.pxi:70\u001b[0m, in \u001b[0;36mpandas._libs.index.Int64Engine._check_type\u001b[0;34m()\u001b[0m\n",
      "\u001b[0;31mKeyError\u001b[0m: 'JobSatisfaction'",
      "\nThe above exception was the direct cause of the following exception:\n",
      "\u001b[0;31mKeyError\u001b[0m                                  Traceback (most recent call last)",
      "Cell \u001b[0;32mIn[22], line 3\u001b[0m\n\u001b[1;32m      1\u001b[0m \u001b[38;5;66;03m#Calculo de la tasa de conversion:\u001b[39;00m\n\u001b[1;32m      2\u001b[0m \u001b[38;5;66;03m# Calcular la tasa de conversión para el grupo A (\"ad\")\u001b[39;00m\n\u001b[0;32m----> 3\u001b[0m JobSatisfaction_A \u001b[38;5;241m=\u001b[39m grupo_A[\u001b[38;5;124m\"\u001b[39m\u001b[38;5;124mJobSatisfaction\u001b[39m\u001b[38;5;124m\"\u001b[39m]\u001b[38;5;241m.\u001b[39msum()\n\u001b[1;32m      4\u001b[0m total_users_A \u001b[38;5;241m=\u001b[39m \u001b[38;5;28mlen\u001b[39m(grupo_A)\n\u001b[1;32m      5\u001b[0m conversion_rate_A \u001b[38;5;241m=\u001b[39m JobSatisfaction_A \u001b[38;5;241m/\u001b[39m total_users_A\n",
      "File \u001b[0;32m~/anaconda3/lib/python3.11/site-packages/pandas/core/series.py:1007\u001b[0m, in \u001b[0;36mSeries.__getitem__\u001b[0;34m(self, key)\u001b[0m\n\u001b[1;32m   1004\u001b[0m     \u001b[38;5;28;01mreturn\u001b[39;00m \u001b[38;5;28mself\u001b[39m\u001b[38;5;241m.\u001b[39m_values[key]\n\u001b[1;32m   1006\u001b[0m \u001b[38;5;28;01melif\u001b[39;00m key_is_scalar:\n\u001b[0;32m-> 1007\u001b[0m     \u001b[38;5;28;01mreturn\u001b[39;00m \u001b[38;5;28mself\u001b[39m\u001b[38;5;241m.\u001b[39m_get_value(key)\n\u001b[1;32m   1009\u001b[0m \u001b[38;5;28;01mif\u001b[39;00m is_hashable(key):\n\u001b[1;32m   1010\u001b[0m     \u001b[38;5;66;03m# Otherwise index.get_value will raise InvalidIndexError\u001b[39;00m\n\u001b[1;32m   1011\u001b[0m     \u001b[38;5;28;01mtry\u001b[39;00m:\n\u001b[1;32m   1012\u001b[0m         \u001b[38;5;66;03m# For labels that don't resolve as scalars like tuples and frozensets\u001b[39;00m\n",
      "File \u001b[0;32m~/anaconda3/lib/python3.11/site-packages/pandas/core/series.py:1116\u001b[0m, in \u001b[0;36mSeries._get_value\u001b[0;34m(self, label, takeable)\u001b[0m\n\u001b[1;32m   1113\u001b[0m     \u001b[38;5;28;01mreturn\u001b[39;00m \u001b[38;5;28mself\u001b[39m\u001b[38;5;241m.\u001b[39m_values[label]\n\u001b[1;32m   1115\u001b[0m \u001b[38;5;66;03m# Similar to Index.get_value, but we do not fall back to positional\u001b[39;00m\n\u001b[0;32m-> 1116\u001b[0m loc \u001b[38;5;241m=\u001b[39m \u001b[38;5;28mself\u001b[39m\u001b[38;5;241m.\u001b[39mindex\u001b[38;5;241m.\u001b[39mget_loc(label)\n\u001b[1;32m   1118\u001b[0m \u001b[38;5;28;01mif\u001b[39;00m is_integer(loc):\n\u001b[1;32m   1119\u001b[0m     \u001b[38;5;28;01mreturn\u001b[39;00m \u001b[38;5;28mself\u001b[39m\u001b[38;5;241m.\u001b[39m_values[loc]\n",
      "File \u001b[0;32m~/anaconda3/lib/python3.11/site-packages/pandas/core/indexes/base.py:3655\u001b[0m, in \u001b[0;36mIndex.get_loc\u001b[0;34m(self, key)\u001b[0m\n\u001b[1;32m   3653\u001b[0m     \u001b[38;5;28;01mreturn\u001b[39;00m \u001b[38;5;28mself\u001b[39m\u001b[38;5;241m.\u001b[39m_engine\u001b[38;5;241m.\u001b[39mget_loc(casted_key)\n\u001b[1;32m   3654\u001b[0m \u001b[38;5;28;01mexcept\u001b[39;00m \u001b[38;5;167;01mKeyError\u001b[39;00m \u001b[38;5;28;01mas\u001b[39;00m err:\n\u001b[0;32m-> 3655\u001b[0m     \u001b[38;5;28;01mraise\u001b[39;00m \u001b[38;5;167;01mKeyError\u001b[39;00m(key) \u001b[38;5;28;01mfrom\u001b[39;00m \u001b[38;5;21;01merr\u001b[39;00m\n\u001b[1;32m   3656\u001b[0m \u001b[38;5;28;01mexcept\u001b[39;00m \u001b[38;5;167;01mTypeError\u001b[39;00m:\n\u001b[1;32m   3657\u001b[0m     \u001b[38;5;66;03m# If we have a listlike key, _check_indexing_error will raise\u001b[39;00m\n\u001b[1;32m   3658\u001b[0m     \u001b[38;5;66;03m#  InvalidIndexError. Otherwise we fall through and re-raise\u001b[39;00m\n\u001b[1;32m   3659\u001b[0m     \u001b[38;5;66;03m#  the TypeError.\u001b[39;00m\n\u001b[1;32m   3660\u001b[0m     \u001b[38;5;28mself\u001b[39m\u001b[38;5;241m.\u001b[39m_check_indexing_error(key)\n",
      "\u001b[0;31mKeyError\u001b[0m: 'JobSatisfaction'"
     ]
    }
   ],
   "source": [
    "#Calculo de la tasa de conversion:\n",
    "# Calcular la tasa de conversión para el grupo A (\"ad\")\n",
    "JobSatisfaction_A = grupo_A[\"JobSatisfaction\"].sum()\n",
    "total_users_A = len(grupo_A)\n",
    "conversion_rate_A = JobSatisfaction_A / total_users_A\n",
    "print(f\"Tasa de conversión para el grupo 'ad': {conversion_rate_A:.2%}\")\n",
    "\n",
    "# Calcular la tasa de conversión para el grupo B (\"psa\")\n",
    "JobSatisfaction_B = grupo_B[\"JobSatisfaction\"].sum()\n",
    "total_users_B = len(grupo_B)\n",
    "conversion_rate_B = JobSatisfaction_B / total_users_B\n",
    "print(f\"Tasa de conversión para el grupo 'psa': {conversion_rate_B:.2%}\")"
   ]
  }
 ],
 "metadata": {
  "kernelspec": {
   "display_name": "base",
   "language": "python",
   "name": "python3"
  },
  "language_info": {
   "codemirror_mode": {
    "name": "ipython",
    "version": 3
   },
   "file_extension": ".py",
   "mimetype": "text/x-python",
   "name": "python",
   "nbconvert_exporter": "python",
   "pygments_lexer": "ipython3",
   "version": "3.11.5"
  }
 },
 "nbformat": 4,
 "nbformat_minor": 2
}
