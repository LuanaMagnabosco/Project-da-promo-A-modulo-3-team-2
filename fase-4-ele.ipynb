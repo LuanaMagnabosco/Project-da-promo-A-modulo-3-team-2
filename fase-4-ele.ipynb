{
 "cells": [
  {
   "cell_type": "code",
   "execution_count": 78,
   "metadata": {},
   "outputs": [],
   "source": [
    "# importamos las librerías que necesitamos\n",
    "\n",
    "# Tratamiento de datos\n",
    "# -----------------------------------------------------------------------\n",
    "import pandas as pd\n",
    "import numpy as np\n",
    "\n",
    "# Visualización\n",
    "# ------------------------------------------------------------------------------\n",
    "import matplotlib.pyplot as plt\n",
    "import seaborn as sns\n",
    "\n",
    "# Evaluar linealidad de las relaciones entre las variables\n",
    "# y la distribución de las variables\n",
    "# ------------------------------------------------------------------------------\n",
    "#import scipy.stats as stats\n",
    "import scipy.stats as stats\n",
    "from scipy.stats import norm, chi2_contingency, shapiro, poisson, chisquare, expon, kstest\n",
    "\n",
    "from statsmodels.stats.proportion import proportions_ztest\n",
    "\n",
    "# Configuración\n",
    "# -----------------------------------------------------------------------\n",
    "pd.set_option('display.max_columns', None) # para poder visualizar todas las columnas de los DataFrames\n",
    "\n",
    "# Gestión de los warnings\n",
    "# -----------------------------------------------------------------------\n",
    "import warnings\n",
    "warnings.filterwarnings(\"ignore\")"
   ]
  },
  {
   "cell_type": "markdown",
   "metadata": {},
   "source": [
    "# Fase 4: Problema de A/B Testing."
   ]
  },
  {
   "cell_type": "markdown",
   "metadata": {},
   "source": [
    "El objetivo de esta fase es determinar si existe una relación entre el nivel de satisfacción en el trabajo y la rotación de empleados, y si es así, cuál es la magnitud de esa relación. Partiremos de la siguiente hipótesis, \"Existe una relación entre el nivel de satisfacción en el trabajo y la rotación de empleados en la empresa. Se sospecha que los empleados con niveles de satisfacción más bajos tienen una mayor probabilidad de dejar la empresa\". Para ello deberéis crear una columna nueva en base al nivel de satisfacción en el trabajo para crear dos grupos, las condiciones para crear los grupos son:\n",
    "\n",
    "- **Grupo A (Control):** Empleados con un nivel de satisfacción en el trabajo igual o superior a 3 en una escala de 1 a 5.\n",
    "\n",
    "- **Grupo B (Variante):** Empleados con un nivel de satisfacción en el trabajo inferior a 3 en la misma escala.\n",
    "\n",
    "La **métrica principal** que debes usar es la tasa de rotación de empleados (Attrition) en cada grupo. Recordemos que, en esta columna, \"No\" indica que el empleado no ha dejado la empresa (sin rotación), mientras que \"Yes\" indica que el empleado ha dejado la empresa (con rotación).\n",
    "\n",
    "Por lo tanto, los pasos que deberás seguir en esta fase son:\n",
    "\n",
    "1. Divide a los empleados en los grupos A y B según los criterios establecidos.\n",
    "\n",
    "2. Calcula la tasa de rotación (porcentaje de empleados que dejaron la empresa) en cada grupo.\n",
    "\n",
    "3. Realiza un análisis estadístico para determinar si hay una diferencia significativa en la tasa de rotación entre los grupos A y B.\n",
    "\n",
    "4. Analiza los resultados.\n",
    "\n",
    "5. Calcular la magnitud de esta relación utilizando estadísticas como la diferencia de medias por ejemplo."
   ]
  },
  {
   "cell_type": "code",
   "execution_count": 40,
   "metadata": {},
   "outputs": [
    {
     "data": {
      "text/html": [
       "<div>\n",
       "<style scoped>\n",
       "    .dataframe tbody tr th:only-of-type {\n",
       "        vertical-align: middle;\n",
       "    }\n",
       "\n",
       "    .dataframe tbody tr th {\n",
       "        vertical-align: top;\n",
       "    }\n",
       "\n",
       "    .dataframe thead th {\n",
       "        text-align: right;\n",
       "    }\n",
       "</style>\n",
       "<table border=\"1\" class=\"dataframe\">\n",
       "  <thead>\n",
       "    <tr style=\"text-align: right;\">\n",
       "      <th></th>\n",
       "      <th>Attrition</th>\n",
       "      <th>BusinessTravel</th>\n",
       "      <th>DailyRate</th>\n",
       "      <th>DistanceFromHome</th>\n",
       "      <th>Education</th>\n",
       "      <th>EducationField</th>\n",
       "      <th>EmployeeNumber</th>\n",
       "      <th>EnvironmentSatisfaction</th>\n",
       "      <th>Gender</th>\n",
       "      <th>HourlyRate</th>\n",
       "      <th>JobInvolvement</th>\n",
       "      <th>JobLevel</th>\n",
       "      <th>JobRole</th>\n",
       "      <th>JobSatisfaction</th>\n",
       "      <th>MaritalStatus</th>\n",
       "      <th>MonthlyRate</th>\n",
       "      <th>NumCompaniesWorked</th>\n",
       "      <th>OverTime</th>\n",
       "      <th>PercentSalaryHike</th>\n",
       "      <th>RelationshipSatisfaction</th>\n",
       "      <th>StockOptionLevel</th>\n",
       "      <th>TrainingTimesLastYear</th>\n",
       "      <th>WorkLifeBalance</th>\n",
       "      <th>YearsAtCompany</th>\n",
       "      <th>YearsSinceLastPromotion</th>\n",
       "      <th>YearsWithCurrManager</th>\n",
       "      <th>DateBirth</th>\n",
       "      <th>RemoteWork</th>\n",
       "      <th>PerformanceRating</th>\n",
       "      <th>TotalWorkingYears</th>\n",
       "      <th>MonthlyIncome</th>\n",
       "    </tr>\n",
       "  </thead>\n",
       "  <tbody>\n",
       "    <tr>\n",
       "      <th>0</th>\n",
       "      <td>no</td>\n",
       "      <td>unknown</td>\n",
       "      <td>684.0</td>\n",
       "      <td>6</td>\n",
       "      <td>3</td>\n",
       "      <td>unknown</td>\n",
       "      <td>162,0</td>\n",
       "      <td>1</td>\n",
       "      <td>female</td>\n",
       "      <td>51.0</td>\n",
       "      <td>3</td>\n",
       "      <td>5</td>\n",
       "      <td>research_director</td>\n",
       "      <td>3</td>\n",
       "      <td>unknown</td>\n",
       "      <td>6462</td>\n",
       "      <td>7</td>\n",
       "      <td>no</td>\n",
       "      <td>13</td>\n",
       "      <td>3</td>\n",
       "      <td>0</td>\n",
       "      <td>5</td>\n",
       "      <td>3.0</td>\n",
       "      <td>20</td>\n",
       "      <td>15</td>\n",
       "      <td>15</td>\n",
       "      <td>1972</td>\n",
       "      <td>yes</td>\n",
       "      <td>3.0</td>\n",
       "      <td>32.595028</td>\n",
       "      <td>19537.0</td>\n",
       "    </tr>\n",
       "    <tr>\n",
       "      <th>1</th>\n",
       "      <td>no</td>\n",
       "      <td>unknown</td>\n",
       "      <td>699.0</td>\n",
       "      <td>1</td>\n",
       "      <td>4</td>\n",
       "      <td>life_sciences</td>\n",
       "      <td>259,0</td>\n",
       "      <td>3</td>\n",
       "      <td>female</td>\n",
       "      <td>65.0</td>\n",
       "      <td>2</td>\n",
       "      <td>5</td>\n",
       "      <td>manager</td>\n",
       "      <td>3</td>\n",
       "      <td>unknown</td>\n",
       "      <td>5678</td>\n",
       "      <td>0</td>\n",
       "      <td>unknown</td>\n",
       "      <td>14</td>\n",
       "      <td>1</td>\n",
       "      <td>1</td>\n",
       "      <td>5</td>\n",
       "      <td>3.0</td>\n",
       "      <td>33</td>\n",
       "      <td>11</td>\n",
       "      <td>9</td>\n",
       "      <td>1971</td>\n",
       "      <td>yes</td>\n",
       "      <td>3.0</td>\n",
       "      <td>34.000000</td>\n",
       "      <td>19999.0</td>\n",
       "    </tr>\n",
       "  </tbody>\n",
       "</table>\n",
       "</div>"
      ],
      "text/plain": [
       "  Attrition BusinessTravel  DailyRate  DistanceFromHome  Education  \\\n",
       "0        no        unknown      684.0                 6          3   \n",
       "1        no        unknown      699.0                 1          4   \n",
       "\n",
       "  EducationField EmployeeNumber  EnvironmentSatisfaction  Gender  HourlyRate  \\\n",
       "0        unknown          162,0                        1  female        51.0   \n",
       "1  life_sciences          259,0                        3  female        65.0   \n",
       "\n",
       "   JobInvolvement  JobLevel            JobRole  JobSatisfaction MaritalStatus  \\\n",
       "0               3         5  research_director                3       unknown   \n",
       "1               2         5            manager                3       unknown   \n",
       "\n",
       "   MonthlyRate  NumCompaniesWorked OverTime  PercentSalaryHike  \\\n",
       "0         6462                   7       no                 13   \n",
       "1         5678                   0  unknown                 14   \n",
       "\n",
       "   RelationshipSatisfaction  StockOptionLevel  TrainingTimesLastYear  \\\n",
       "0                         3                 0                      5   \n",
       "1                         1                 1                      5   \n",
       "\n",
       "   WorkLifeBalance  YearsAtCompany  YearsSinceLastPromotion  \\\n",
       "0              3.0              20                       15   \n",
       "1              3.0              33                       11   \n",
       "\n",
       "   YearsWithCurrManager  DateBirth RemoteWork  PerformanceRating  \\\n",
       "0                    15       1972        yes                3.0   \n",
       "1                     9       1971        yes                3.0   \n",
       "\n",
       "   TotalWorkingYears  MonthlyIncome  \n",
       "0          32.595028        19537.0  \n",
       "1          34.000000        19999.0  "
      ]
     },
     "execution_count": 40,
     "metadata": {},
     "output_type": "execute_result"
    }
   ],
   "source": [
    "# lo primero que hacemos es cargar el dataframe que vamos a usar para esta lección\n",
    "df = pd.read_csv(\"df_imputada.csv\")\n",
    "df.head(2)"
   ]
  },
  {
   "cell_type": "code",
   "execution_count": 41,
   "metadata": {},
   "outputs": [
    {
     "data": {
      "text/plain": [
       "array([3, 4, 1, 2])"
      ]
     },
     "execution_count": 41,
     "metadata": {},
     "output_type": "execute_result"
    }
   ],
   "source": [
    "df['JobSatisfaction'].unique()"
   ]
  },
  {
   "cell_type": "code",
   "execution_count": 42,
   "metadata": {},
   "outputs": [
    {
     "data": {
      "text/plain": [
       "Index(['Attrition', 'BusinessTravel', 'DailyRate', 'DistanceFromHome',\n",
       "       'Education', 'EducationField', 'EmployeeNumber',\n",
       "       'EnvironmentSatisfaction', 'Gender', 'HourlyRate', 'JobInvolvement',\n",
       "       'JobLevel', 'JobRole', 'JobSatisfaction', 'MaritalStatus',\n",
       "       'MonthlyRate', 'NumCompaniesWorked', 'OverTime', 'PercentSalaryHike',\n",
       "       'RelationshipSatisfaction', 'StockOptionLevel', 'TrainingTimesLastYear',\n",
       "       'WorkLifeBalance', 'YearsAtCompany', 'YearsSinceLastPromotion',\n",
       "       'YearsWithCurrManager', 'DateBirth', 'RemoteWork', 'PerformanceRating',\n",
       "       'TotalWorkingYears', 'MonthlyIncome'],\n",
       "      dtype='object')"
      ]
     },
     "execution_count": 42,
     "metadata": {},
     "output_type": "execute_result"
    }
   ],
   "source": [
    "df.columns\n"
   ]
  },
  {
   "cell_type": "markdown",
   "metadata": {},
   "source": [
    "1. Divide a los empleados en los grupos A y B según los criterios establecidos."
   ]
  },
  {
   "cell_type": "code",
   "execution_count": 43,
   "metadata": {},
   "outputs": [],
   "source": [
    "def agrupar(valor):\n",
    "    if valor >= 3:\n",
    "        return \"grupo_A\"\n",
    "    else:\n",
    "        return \"grupo_B\"\n",
    "\n",
    "df[\"GroupJobSatisfaction\"]= df[\"JobSatisfaction\"].apply(agrupar)"
   ]
  },
  {
   "cell_type": "markdown",
   "metadata": {},
   "source": [
    "2. Calcula la tasa de rotación (porcentaje de empleados que dejaron la empresa) en cada grupo."
   ]
  },
  {
   "cell_type": "code",
   "execution_count": 83,
   "metadata": {},
   "outputs": [
    {
     "name": "stdout",
     "output_type": "stream",
     "text": [
      "Tasa de rotación en el Grupo A (Control) es: 13.67%\n",
      "Tasa de rotación en el Grupo B (Variante) es: 19.87%\n"
     ]
    }
   ],
   "source": [
    "# calculamos la Tasa de Rotación\n",
    "\n",
    "# Dividir los empleados en los grupos A y B\n",
    "df_grupo_a = df[df['JobSatisfaction'] >= 3]\n",
    "df_grupo_b = df[df['JobSatisfaction'] < 3]\n",
    "\n",
    "# Calcular la tasa de rotación en cada grupo\n",
    "tasa_rotacion_a = df_grupo_a['Attrition'].value_counts(normalize=True).get('yes', 0)\n",
    "tasa_rotacion_b = df_grupo_b['Attrition'].value_counts(normalize=True).get('yes', 0)\n",
    "# Empleamos normalize=True para obtener directamente la tasa en términos porcentuales\n",
    "# Devuelve 0 si no hay empleados que dejaron la empresa\n",
    "# Multiplicamos por 100 para obtener la tasa en porcentaje\n",
    "\n",
    "print(f\"Tasa de rotación en el Grupo A (Control) es: {tasa_rotacion_a * 100:.2f}%\")\n",
    "print(f\"Tasa de rotación en el Grupo B (Variante) es: {tasa_rotacion_b * 100:.2f}%\")\n",
    "# Multiplicamos por 100 para obtener la tasa en porcentaje\n",
    "# Formateamos a número flotante con 2 decimales"
   ]
  },
  {
   "cell_type": "markdown",
   "metadata": {},
   "source": [
    "3. Realiza un análisis estadístico para determinar si hay una diferencia significativa en la tasa de rotación entre los grupos A y B."
   ]
  },
  {
   "cell_type": "markdown",
   "metadata": {},
   "source": [
    "Dado que estamos comparando proporciones (porcentaje de empleados que dejaron la empresa) entre dos grupos independientes, una prueba chi-cuadrado de independencia o una prueba z para dos proporciones puede ser apropiada.\n"
   ]
  },
  {
   "cell_type": "markdown",
   "metadata": {},
   "source": [
    "### Prueba de proporciones"
   ]
  },
  {
   "cell_type": "markdown",
   "metadata": {},
   "source": [
    "**Interpretación:**\n",
    "\n",
    "- Si `p_value < 0.05`: Rechazamos la hipótesis nula. Hay evidencia suficiente para decir que hay una diferencia significativa entre las dos muestras.\n",
    "\n",
    "- Si `p_value >= 0.05`: No hay evidencia suficiente para rechazar la hipótesis nula. No podemos afirmar que haya una diferencia significativa entre las dos muestras."
   ]
  },
  {
   "cell_type": "code",
   "execution_count": 81,
   "metadata": {},
   "outputs": [
    {
     "data": {
      "text/plain": [
       "0.14"
      ]
     },
     "execution_count": 81,
     "metadata": {},
     "output_type": "execute_result"
    }
   ],
   "source": [
    "tasa_grupo_a_rotacion=np.round(df_grupo_a[df_grupo_a[\"Attrition\"]== \"yes\"].shape[0]/df_grupo_a.shape[0],2)\n",
    "tasa_grupo_a_rotacion"
   ]
  },
  {
   "cell_type": "code",
   "execution_count": 107,
   "metadata": {},
   "outputs": [
    {
     "name": "stdout",
     "output_type": "stream",
     "text": [
      "Tasa de rotación en el Grupo A (Control) es: 13.67%\n",
      "Tasa de rotación en el Grupo B (Variante) es: 19.87%\n"
     ]
    },
    {
     "data": {
      "text/html": [
       "<div>\n",
       "<style scoped>\n",
       "    .dataframe tbody tr th:only-of-type {\n",
       "        vertical-align: middle;\n",
       "    }\n",
       "\n",
       "    .dataframe tbody tr th {\n",
       "        vertical-align: top;\n",
       "    }\n",
       "\n",
       "    .dataframe thead th {\n",
       "        text-align: right;\n",
       "    }\n",
       "</style>\n",
       "<table border=\"1\" class=\"dataframe\">\n",
       "  <thead>\n",
       "    <tr style=\"text-align: right;\">\n",
       "      <th></th>\n",
       "      <th>Grupo</th>\n",
       "      <th>Rotacion</th>\n",
       "      <th>NoRotacion</th>\n",
       "    </tr>\n",
       "  </thead>\n",
       "  <tbody>\n",
       "    <tr>\n",
       "      <th>0</th>\n",
       "      <td>Alta satisfaccion</td>\n",
       "      <td>0.136683</td>\n",
       "      <td>0.863317</td>\n",
       "    </tr>\n",
       "    <tr>\n",
       "      <th>1</th>\n",
       "      <td>Baja satisfaccion</td>\n",
       "      <td>0.198708</td>\n",
       "      <td>0.801292</td>\n",
       "    </tr>\n",
       "  </tbody>\n",
       "</table>\n",
       "</div>"
      ],
      "text/plain": [
       "               Grupo  Rotacion  NoRotacion\n",
       "0  Alta satisfaccion  0.136683    0.863317\n",
       "1  Baja satisfaccion  0.198708    0.801292"
      ]
     },
     "execution_count": 107,
     "metadata": {},
     "output_type": "execute_result"
    }
   ],
   "source": [
    "# Tasa rotación grupo A (de control)\n",
    "print(f\"Tasa de rotación en el Grupo A (Control) es: {tasa_rotacion_a * 100:.2f}%\")\n",
    "\n",
    "# Tasa rotación grupo B (de prueba)\n",
    "print(f\"Tasa de rotación en el Grupo B (Variante) es: {tasa_rotacion_b * 100:.2f}%\")\n",
    "\n",
    "# Creamos un DataFrame\n",
    "data_p = {\n",
    "    'Grupo': [\"Alta satisfaccion\", \"Baja satisfaccion\"],\n",
    "    'Rotacion': [tasa_rotacion_a,tasa_rotacion_b],\n",
    "    'NoRotacion': [df_grupo_a['Attrition'].value_counts(normalize=True).get('no', 0),df_grupo_b['Attrition'].value_counts(normalize=True).get('no', 0)]\n",
    "    }\n",
    "\n",
    "df_p = pd.DataFrame(data_p)\n",
    "df_p.head()"
   ]
  },
  {
   "cell_type": "code",
   "execution_count": 113,
   "metadata": {},
   "outputs": [
    {
     "data": {
      "text/plain": [
       "Text(0.5, 1.0, 'No rotacion')"
      ]
     },
     "execution_count": 113,
     "metadata": {},
     "output_type": "execute_result"
    },
    {
     "data": {
      "image/png": "[encoded data removed]",
      "text/plain": [
       "<Figure size 2000x500 with 2 Axes>"
      ]
     },
     "metadata": {},
     "output_type": "display_data"
    }
   ],
   "source": [
    "# hacemos un análisis visual previo\n",
    "fig, axes = plt.subplots(nrows = 1, ncols = 2, figsize = (20, 5))\n",
    "\n",
    "sns.barplot(x=\"Grupo\", y=\"Rotacion\", data=df_p,  palette = \"flare\", ax = axes[0])\n",
    "sns.barplot(x=\"Grupo\", y=\"NoRotacion\", data=df_p,  palette = \"flare\", ax = axes[1])\n",
    "\n",
    "axes[0].set_title(\"Rotacion\")\n",
    "axes[1].set_title(\"No rotacion\")"
   ]
  },
  {
   "cell_type": "code",
   "execution_count": 114,
   "metadata": {},
   "outputs": [
    {
     "name": "stdout",
     "output_type": "stream",
     "text": [
      "No hay evidencia de una diferencia significativa en las tasas de rotación entre los grupos.\n",
      "Los resultados sugieren que no existe evidencia estadística para afirmar que las medias de las muestras son distintas\n"
     ]
    }
   ],
   "source": [
    "# Crear una tabla de contingencia\n",
    "contingency_table = pd.crosstab(df_p['Grupo'], df_p['Rotacion'])\n",
    "\n",
    "# Realizar la prueba de proporciones\n",
    "chi2, p_value, _, _ = chi2_contingency(contingency_table)\n",
    "\n",
    "# Imprimir el resultado de la prueba\n",
    "alpha = 0.05\n",
    "if p_value < alpha:\n",
    "    print(\"Hay una diferencia significativa en las tasas de rotacion entre el Grupo de A (de control) y el Grupo B (de prueba).\")\n",
    "    print(\"Los resultados sugieren que existe evidencia estadística para afirmar que las medias de las muestras son distintas.\")\n",
    "else:\n",
    "    print(\"No hay evidencia de una diferencia significativa en las tasas de rotación entre los grupos.\")\n",
    "    print(\"Los resultados sugieren que no existe evidencia estadística para afirmar que las medias de las muestras son distintas.\")"
   ]
  },
  {
   "cell_type": "markdown",
   "metadata": {},
   "source": [
    "### Prueba Z"
   ]
  },
  {
   "cell_type": "markdown",
   "metadata": {},
   "source": [
    "- **Hipótesis Nula (H0):** No hay diferencia significativa en la rotación entre el grupo de control y el grupo de prueba.\n",
    "\n",
    "- **Hipótesis Alternativa (H1):** Hay una diferencia significativa en la rotación entre el grupo de control y el grupo de prueba.\n",
    "\n",
    "**Interpretación:**\n",
    "\n",
    "- Si `p_value < 0.05`: Rechazamos la hipótesis nula. Hay evidencia suficiente para decir que hay una diferencia significativa entre las dos muestras.\n",
    "\n",
    "- Si `p_value >= 0.05`: No hay evidencia suficiente para rechazar la hipótesis nula. No podemos afirmar que haya una diferencia significativa entre las dos muestras."
   ]
  },
  {
   "cell_type": "code",
   "execution_count": 76,
   "metadata": {},
   "outputs": [
    {
     "data": {
      "text/html": [
       "<div>\n",
       "<style scoped>\n",
       "    .dataframe tbody tr th:only-of-type {\n",
       "        vertical-align: middle;\n",
       "    }\n",
       "\n",
       "    .dataframe tbody tr th {\n",
       "        vertical-align: top;\n",
       "    }\n",
       "\n",
       "    .dataframe thead th {\n",
       "        text-align: right;\n",
       "    }\n",
       "</style>\n",
       "<table border=\"1\" class=\"dataframe\">\n",
       "  <thead>\n",
       "    <tr style=\"text-align: right;\">\n",
       "      <th></th>\n",
       "      <th>GroupJobSatisfaction</th>\n",
       "      <th>Attrition</th>\n",
       "    </tr>\n",
       "  </thead>\n",
       "  <tbody>\n",
       "    <tr>\n",
       "      <th>0</th>\n",
       "      <td>grupo_A</td>\n",
       "      <td>3.168906</td>\n",
       "    </tr>\n",
       "    <tr>\n",
       "      <th>1</th>\n",
       "      <td>grupo_A</td>\n",
       "      <td>3.665602</td>\n",
       "    </tr>\n",
       "    <tr>\n",
       "      <th>2</th>\n",
       "      <td>grupo_A</td>\n",
       "      <td>5.104435</td>\n",
       "    </tr>\n",
       "    <tr>\n",
       "      <th>3</th>\n",
       "      <td>grupo_A</td>\n",
       "      <td>4.899686</td>\n",
       "    </tr>\n",
       "    <tr>\n",
       "      <th>4</th>\n",
       "      <td>grupo_A</td>\n",
       "      <td>4.224052</td>\n",
       "    </tr>\n",
       "  </tbody>\n",
       "</table>\n",
       "</div>"
      ],
      "text/plain": [
       "  GroupJobSatisfaction  Attrition\n",
       "0              grupo_A   3.168906\n",
       "1              grupo_A   3.665602\n",
       "2              grupo_A   5.104435\n",
       "3              grupo_A   4.899686\n",
       "4              grupo_A   4.224052"
      ]
     },
     "execution_count": 76,
     "metadata": {},
     "output_type": "execute_result"
    }
   ],
   "source": [
    "# Creamos un diccionario con dos columnas, la del grupo al que pertecen y otra con los valores de rotación\n",
    "data_z = {'GroupJobSatisfaction': ['grupo_A'] * 1000 + ['grupo_B'] * 1000,\n",
    "        'Attrition': np.concatenate([np.random.normal(5, 1, 1000),\n",
    "                                              np.random.normal(6, 1, 1000)])}\n",
    "df_z = pd.DataFrame(data_z)\n",
    "df_z.head()"
   ]
  },
  {
   "cell_type": "code",
   "execution_count": 53,
   "metadata": {},
   "outputs": [
    {
     "data": {
      "image/png": "[encoded data removed]",
      "text/plain": [
       "<Figure size 640x480 with 1 Axes>"
      ]
     },
     "metadata": {},
     "output_type": "display_data"
    }
   ],
   "source": [
    "# Analizamos los datos primero visualmente\n",
    "sns.barplot(x=\"GroupJobSatisfaction\", y=\"Attrition\", data=df_z,  palette = \"viridis\");"
   ]
  },
  {
   "cell_type": "code",
   "execution_count": 60,
   "metadata": {},
   "outputs": [
    {
     "name": "stdout",
     "output_type": "stream",
     "text": [
      "Hay una diferencia significativa en la rotación entre el grupo A (de control) y el grupo B (de prueba).\n",
      "Los resultados sugieren que sí que existe una diferencia entre los grupos en la rotación.\n"
     ]
    }
   ],
   "source": [
    "# Calcular la media y la desviación estándar del grupo A (control)\n",
    "media_a_z = df_z[df_z['GroupJobSatisfaction'] == 'grupo_A']['Attrition'].mean()\n",
    "std_a_z = df_z[df_z['GroupJobSatisfaction'] == 'grupo_A']['Attrition'].std()\n",
    "\n",
    "# Calcular la media y la desviación estándar del grupo B (prueba)\n",
    "media_b_z = df_z[df_z['GroupJobSatisfaction'] == 'grupo_B']['Attrition'].mean()\n",
    "std_b_z = df_z[df_z['GroupJobSatisfaction'] == 'grupo_B']['Attrition'].std()\n",
    "\n",
    "# Calcular la cantidad de datos que tenemos en el grupo A (control) y el test B (prueba)\n",
    "n_a_z = len(df_z[df_z['GroupJobSatisfaction'] == 'grupo_A'])\n",
    "n_b_z = len(df_z[df_z['GroupJobSatisfaction'] == 'grupo_B'])\n",
    "\n",
    "# calcular el valor de la z\n",
    "z_stat = (media_b_z - media_a_z) / np.sqrt((std_a_z**2 / n_a_z) + (std_b_z**2 / n_b_z))\n",
    "\n",
    "# Calcular el valor p\n",
    "p_value = 2 * (1 - norm.cdf(np.abs(z_stat)))\n",
    "\n",
    "# Imprimir el resultado de la prueba\n",
    "alpha = 0.05\n",
    "if p_value < alpha:\n",
    "    print(\"Hay una diferencia significativa en la rotación entre el grupo A (de control) y el grupo B (de prueba).\")\n",
    "    print(\"Los resultados sugieren que sí que existe una diferencia entre los grupos en la rotación.\")\n",
    "else:\n",
    "    print(\"No hay evidencia de una diferencia significativa en la rotación entre los grupos.\")\n",
    "    print(\"Los resultados sugieren que no existe evidencia estadística para afirmar que las medias de las muestras son distintas.\")\n"
   ]
  }
 ],
 "metadata": {
  "kernelspec": {
   "display_name": "base",
   "language": "python",
   "name": "python3"
  },
  "language_info": {
   "codemirror_mode": {
    "name": "ipython",
    "version": 3
   },
   "file_extension": ".py",
   "mimetype": "text/x-python",
   "name": "python",
   "nbconvert_exporter": "python",
   "pygments_lexer": "ipython3",
   "version": "3.11.5"
  }
 },
 "nbformat": 4,
 "nbformat_minor": 2
}
